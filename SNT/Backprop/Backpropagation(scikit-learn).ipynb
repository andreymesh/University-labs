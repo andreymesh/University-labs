{
 "cells": [
  {
   "cell_type": "code",
   "execution_count": 51,
   "metadata": {
    "collapsed": true
   },
   "outputs": [],
   "source": [
    "import pandas\n",
    "import xlrd\n",
    "\n",
    "arrayData = []\n",
    "\n",
    "rb = xlrd.open_workbook('echocardiogram.data.xls',formatting_info=True)\n",
    "sheet = rb.sheet_by_index(0)\n",
    "for rownum in range(sheet.nrows - 1):\n",
    "    row = sheet.row_values(rownum + 1)\n",
    "    values = []\n",
    "    flag = True\n",
    "    for i in range(len(row)):\n",
    "         if i == 1 :\n",
    "             if type(row[i]) is float : target = row[i]\n",
    "             else: flag = False\n",
    "         else:\n",
    "             if type(row[i]) is float : value = row[i]\n",
    "             else: flag = False\n",
    "             values.append(value)\n",
    "    if flag == True:\n",
    "        \n",
    "     values.append(target)   \n",
    "     arrayData.append(values)\n",
    "\n",
    "\n",
    "dataframe = pandas.DataFrame(arrayData)  "
   ]
  },
  {
   "cell_type": "code",
   "execution_count": 52,
   "metadata": {},
   "outputs": [
    {
     "data": {
      "text/html": [
       "<div>\n",
       "<style>\n",
       "    .dataframe thead tr:only-child th {\n",
       "        text-align: right;\n",
       "    }\n",
       "\n",
       "    .dataframe thead th {\n",
       "        text-align: left;\n",
       "    }\n",
       "\n",
       "    .dataframe tbody tr th {\n",
       "        vertical-align: top;\n",
       "    }\n",
       "</style>\n",
       "<table border=\"1\" class=\"dataframe\">\n",
       "  <thead>\n",
       "    <tr style=\"text-align: right;\">\n",
       "      <th></th>\n",
       "      <th>0</th>\n",
       "      <th>1</th>\n",
       "      <th>2</th>\n",
       "      <th>3</th>\n",
       "      <th>4</th>\n",
       "      <th>5</th>\n",
       "      <th>6</th>\n",
       "      <th>7</th>\n",
       "      <th>8</th>\n",
       "      <th>9</th>\n",
       "    </tr>\n",
       "  </thead>\n",
       "  <tbody>\n",
       "    <tr>\n",
       "      <th>0</th>\n",
       "      <td>11.0</td>\n",
       "      <td>71.0</td>\n",
       "      <td>0.0</td>\n",
       "      <td>0.260</td>\n",
       "      <td>9.000</td>\n",
       "      <td>4.600</td>\n",
       "      <td>14.0</td>\n",
       "      <td>1.00</td>\n",
       "      <td>1.000</td>\n",
       "      <td>0.0</td>\n",
       "    </tr>\n",
       "    <tr>\n",
       "      <th>1</th>\n",
       "      <td>19.0</td>\n",
       "      <td>72.0</td>\n",
       "      <td>0.0</td>\n",
       "      <td>0.380</td>\n",
       "      <td>6.000</td>\n",
       "      <td>4.100</td>\n",
       "      <td>14.0</td>\n",
       "      <td>1.70</td>\n",
       "      <td>0.588</td>\n",
       "      <td>0.0</td>\n",
       "    </tr>\n",
       "    <tr>\n",
       "      <th>2</th>\n",
       "      <td>16.0</td>\n",
       "      <td>55.0</td>\n",
       "      <td>0.0</td>\n",
       "      <td>0.260</td>\n",
       "      <td>4.000</td>\n",
       "      <td>3.420</td>\n",
       "      <td>14.0</td>\n",
       "      <td>1.00</td>\n",
       "      <td>1.000</td>\n",
       "      <td>0.0</td>\n",
       "    </tr>\n",
       "    <tr>\n",
       "      <th>3</th>\n",
       "      <td>57.0</td>\n",
       "      <td>60.0</td>\n",
       "      <td>0.0</td>\n",
       "      <td>0.253</td>\n",
       "      <td>12.062</td>\n",
       "      <td>4.603</td>\n",
       "      <td>16.0</td>\n",
       "      <td>1.45</td>\n",
       "      <td>0.788</td>\n",
       "      <td>0.0</td>\n",
       "    </tr>\n",
       "    <tr>\n",
       "      <th>4</th>\n",
       "      <td>19.0</td>\n",
       "      <td>57.0</td>\n",
       "      <td>0.0</td>\n",
       "      <td>0.160</td>\n",
       "      <td>22.000</td>\n",
       "      <td>5.750</td>\n",
       "      <td>18.0</td>\n",
       "      <td>2.25</td>\n",
       "      <td>0.571</td>\n",
       "      <td>1.0</td>\n",
       "    </tr>\n",
       "  </tbody>\n",
       "</table>\n",
       "</div>"
      ],
      "text/plain": [
       "      0     1    2      3       4      5     6     7      8    9\n",
       "0  11.0  71.0  0.0  0.260   9.000  4.600  14.0  1.00  1.000  0.0\n",
       "1  19.0  72.0  0.0  0.380   6.000  4.100  14.0  1.70  0.588  0.0\n",
       "2  16.0  55.0  0.0  0.260   4.000  3.420  14.0  1.00  1.000  0.0\n",
       "3  57.0  60.0  0.0  0.253  12.062  4.603  16.0  1.45  0.788  0.0\n",
       "4  19.0  57.0  0.0  0.160  22.000  5.750  18.0  2.25  0.571  1.0"
      ]
     },
     "execution_count": 52,
     "metadata": {},
     "output_type": "execute_result"
    }
   ],
   "source": [
    "dataframe.head()"
   ]
  },
  {
   "cell_type": "code",
   "execution_count": 53,
   "metadata": {},
   "outputs": [],
   "source": [
    "dataset = dataframe.values\n",
    "# split into input (X) and output (Y) variables\n",
    "X = dataset[:,0:9].astype(float)\n",
    "y = dataset[:,9]"
   ]
  },
  {
   "cell_type": "code",
   "execution_count": 54,
   "metadata": {
    "collapsed": true
   },
   "outputs": [],
   "source": [
    "from sklearn import preprocessing\n",
    "# normalize the data attributes\n",
    "normalized_X = preprocessing.normalize(X)\n",
    "# standardize the data attributes\n",
    "standardized_X = preprocessing.scale(X)"
   ]
  },
  {
   "cell_type": "code",
   "execution_count": 55,
   "metadata": {
    "collapsed": true
   },
   "outputs": [],
   "source": [
    "from sklearn.model_selection import train_test_split\n",
    "X_train, X_test, y_train, y_test = train_test_split(standardized_X , y, test_size=0.20)"
   ]
  },
  {
   "cell_type": "code",
   "execution_count": 56,
   "metadata": {
    "collapsed": true
   },
   "outputs": [],
   "source": [
    "from sklearn.neural_network import MLPClassifier"
   ]
  },
  {
   "cell_type": "code",
   "execution_count": 57,
   "metadata": {},
   "outputs": [
    {
     "data": {
      "text/plain": [
       "MLPClassifier(activation='logistic', alpha=0.001, batch_size='auto',\n",
       "       beta_1=0.9, beta_2=0.999, early_stopping=False, epsilon=1e-08,\n",
       "       hidden_layer_sizes=(9, 1), learning_rate='constant',\n",
       "       learning_rate_init=0.5, max_iter=100, momentum=0.9,\n",
       "       nesterovs_momentum=True, power_t=0.5, random_state=None,\n",
       "       shuffle=True, solver='lbfgs', tol=0.0001, validation_fraction=0.1,\n",
       "       verbose=False, warm_start=False)"
      ]
     },
     "execution_count": 57,
     "metadata": {},
     "output_type": "execute_result"
    }
   ],
   "source": [
    "mlp = MLPClassifier(hidden_layer_sizes=(9, 1), \n",
    "                    max_iter=100,\n",
    "                    alpha=0.001,\n",
    "                    solver='lbfgs',\n",
    "                    activation='logistic',\n",
    "                    learning_rate_init=.5)\n",
    "mlp.fit(X_train, y_train)"
   ]
  },
  {
   "cell_type": "code",
   "execution_count": 58,
   "metadata": {},
   "outputs": [
    {
     "name": "stdout",
     "output_type": "stream",
     "text": [
      "Training set score: 0.925926\n",
      "Test set score: 0.666667\n"
     ]
    }
   ],
   "source": [
    "print(\"Training set score: %f\" % mlp.score(X_train, y_train))\n",
    "print(\"Test set score: %f\" % mlp.score(X_test, y_test))"
   ]
  },
  {
   "cell_type": "code",
   "execution_count": 34,
   "metadata": {},
   "outputs": [
    {
     "name": "stdout",
     "output_type": "stream",
     "text": [
      "Result: 62.75% +-(10.00%)\n"
     ]
    }
   ],
   "source": [
    "import numpy\n",
    "from sklearn.pipeline import Pipeline\n",
    "from sklearn.model_selection import KFold\n",
    "from sklearn.model_selection import cross_val_score\n",
    "seed = 7\n",
    "numpy.random.seed(seed)\n",
    "estimators = []\n",
    "estimators.append(('mlp', mlp))\n",
    "pipeline = Pipeline(estimators)\n",
    "kfold = KFold( shuffle=True, random_state=seed)\n",
    "results = cross_val_score(pipeline, normalized_X, y, cv=kfold, pre_dispatch='5')\n",
    "print(\"Result: %.2f%% +-(%.2f%%)\" % (results.mean()*100, results.std()*100))"
   ]
  },
  {
   "cell_type": "code",
   "execution_count": null,
   "metadata": {
    "collapsed": true
   },
   "outputs": [],
   "source": []
  }
 ],
 "metadata": {
  "kernelspec": {
   "display_name": "Python 3",
   "language": "python",
   "name": "python3"
  },
  "language_info": {
   "codemirror_mode": {
    "name": "ipython",
    "version": 3
   },
   "file_extension": ".py",
   "mimetype": "text/x-python",
   "name": "python",
   "nbconvert_exporter": "python",
   "pygments_lexer": "ipython3",
   "version": "3.6.3"
  }
 },
 "nbformat": 4,
 "nbformat_minor": 2
}
